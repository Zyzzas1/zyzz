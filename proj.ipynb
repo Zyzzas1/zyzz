{
  "nbformat": 4,
  "nbformat_minor": 0,
  "metadata": {
    "colab": {
      "provenance": [],
      "authorship_tag": "ABX9TyOEEsIAF0hBwDcJARJ5xNy9",
      "include_colab_link": true
    },
    "kernelspec": {
      "name": "python3",
      "display_name": "Python 3"
    },
    "language_info": {
      "name": "python"
    }
  },
  "cells": [
    {
      "cell_type": "markdown",
      "metadata": {
        "id": "view-in-github",
        "colab_type": "text"
      },
      "source": [
        "<a href=\"https://colab.research.google.com/github/Zyzzas1/zyzz/blob/main/proj.ipynb\" target=\"_parent\"><img src=\"https://colab.research.google.com/assets/colab-badge.svg\" alt=\"Open In Colab\"/></a>"
      ]
    },
    {
      "cell_type": "code",
      "execution_count": 12,
      "metadata": {
        "id": "INLHCIQ0__92"
      },
      "outputs": [],
      "source": [
        "%matplotlib inline\n",
        "\n",
        "import os\n",
        "import time\n",
        "import numpy as np\n",
        "import pandas as pd\n",
        "import matplotlib.pyplot as plt\n",
        "import tensorflow.keras as keras\n",
        "from tensorflow.keras.layers import Dense, Input, Flatten, Conv2D, BatchNormalization, \\\n",
        "                                    Activation, Dropout, MaxPooling2D\n",
        "from tensorflow.keras.models import Sequential\n",
        "from keras.optimizers import SGD\n",
        "from sklearn.model_selection import train_test_split\n",
        "\n",
        "from tensorflow.keras.callbacks import TensorBoard\n",
        "from keras.models import Sequential\n",
        "from keras.layers import Conv2D, MaxPooling2D, AveragePooling2D, Flatten, Dense\n"
      ]
    },
    {
      "cell_type": "code",
      "source": [
        "import requests\n",
        "\n",
        "# URL of the raw file on GitHub\n",
        "url = \"https://github.com/trokas/ai_primer/raw/master/flatland_train.npz\"\n",
        "\n",
        "# Send an HTTP GET request to the URL\n",
        "response = requests.get(url)\n",
        "\n",
        "# Check if the request was successful (status code 200)\n",
        "if response.status_code == 200:\n",
        "    # Save the content to a local file\n",
        "    with open(\"flatland_train.npz\", \"wb\") as file:\n",
        "        file.write(response.content)\n",
        "    print(\"File downloaded successfully.\")\n",
        "else:\n",
        "    print(f\"Failed to download the file. Status code: {response.status_code}\")"
      ],
      "metadata": {
        "colab": {
          "base_uri": "https://localhost:8080/"
        },
        "id": "KAec0aLiAkyG",
        "outputId": "c4d8f9f8-6dc8-42ac-cd3c-f8de30cc18e0"
      },
      "execution_count": 3,
      "outputs": [
        {
          "output_type": "stream",
          "name": "stdout",
          "text": [
            "File downloaded successfully.\n"
          ]
        }
      ]
    },
    {
      "cell_type": "code",
      "source": [
        "data = np.load('flatland_train.npz')\n",
        "X = data['X']\n",
        "y = data['y']\n",
        "\n",
        "y[y != 0] -= 2    # Correct labels so that triangle is mapped to class 1\n",
        "X = X / 255.\n"
      ],
      "metadata": {
        "id": "Vvs9nxAfAphv"
      },
      "execution_count": 4,
      "outputs": []
    },
    {
      "cell_type": "code",
      "source": [
        "import matplotlib.pyplot as plt\n",
        "import numpy as np\n",
        "\n",
        "\n",
        "for i in range(6):\n",
        "    plt.subplot(1, 6, i + 1)\n",
        "    plt.imshow(X[i], cmap='gray')  # Assuming grayscale images\n",
        "    plt.title(f'Label: {y[i]}')\n",
        "    plt.axis('off')\n",
        "\n",
        "plt.show()\n"
      ],
      "metadata": {
        "colab": {
          "base_uri": "https://localhost:8080/",
          "height": 130
        },
        "id": "PDepa8FIBgY-",
        "outputId": "4b28cf1c-121b-4057-820d-9d3b6aa225fe"
      },
      "execution_count": 5,
      "outputs": [
        {
          "output_type": "display_data",
          "data": {
            "text/plain": [
              "<Figure size 640x480 with 6 Axes>"
            ],
            "image/png": "[encoded data removed]"
          },
          "metadata": {}
        }
      ]
    },
    {
      "cell_type": "code",
      "source": [],
      "metadata": {
        "id": "o2UABSQzeI7v"
      },
      "execution_count": null,
      "outputs": []
    },
    {
      "cell_type": "code",
      "source": [
        "unique_labels, label_counts = np.unique(y, return_counts=True)\n",
        "\n",
        "# Print the results\n",
        "for label, count in zip(unique_labels, label_counts):\n",
        "    print(f'Label {label}: {count} ')"
      ],
      "metadata": {
        "colab": {
          "base_uri": "https://localhost:8080/"
        },
        "id": "Pft8GW1qB_H6",
        "outputId": "511918b3-12e8-466d-9788-46fe6d2dbca1"
      },
      "execution_count": 6,
      "outputs": [
        {
          "output_type": "stream",
          "name": "stdout",
          "text": [
            "Label 0.0: 1381 \n",
            "Label 1.0: 2853 \n",
            "Label 2.0: 1868 \n",
            "Label 3.0: 2137 \n",
            "Label 4.0: 1761 \n"
          ]
        }
      ]
    },
    {
      "cell_type": "code",
      "source": [
        "(X_train, X_test, y_train, y_test) = train_test_split(X, y, test_size=0.2, random_state=42)\n",
        "\n",
        "# Reshape the data to add the fourth dimension\n",
        "X_train = X_train.reshape(X_train.shape[0], 50, 50, 1)\n",
        "X_val = X_test.reshape(X_test.shape[0], 50, 50, 1)"
      ],
      "metadata": {
        "id": "6LEDPIp9CUay"
      },
      "execution_count": 11,
      "outputs": []
    },
    {
      "cell_type": "code",
      "source": [
        "# Model architecture\n",
        "model = Sequential()\n",
        "model.add(Conv2D(32, (3, 3), activation='relu', input_shape=(50, 50, 1)))\n",
        "model.add(MaxPooling2D(pool_size=(2, 2)))\n",
        "model.add(Conv2D(64, (3, 3), activation='relu'))\n",
        "model.add(MaxPooling2D(pool_size=(2, 2)))\n",
        "model.add(Conv2D(128, (3, 3), activation='relu'))\n",
        "model.add(MaxPooling2D(pool_size=(2, 2)))\n",
        "model.add(Flatten())\n",
        "model.add(Dense(256, activation='relu'))\n",
        "model.add(Dropout(0.5))\n",
        "model.add(Dense(128, activation='relu'))\n",
        "model.add(Dropout(0.5))\n",
        "model.add(Dense(5, activation='softmax'))\n",
        "\n",
        "model.compile(optimizer='adam', loss='sparse_categorical_crossentropy', metrics=['accuracy'])\n",
        "\n",
        "# Training with data augmentation\n",
        "history = model.fit(X_train, y_train, batch_size=16, epochs=20, validation_data=(X_val, y_test))\n",
        "\n",
        "# Save the model to a file\n",
        "model.save('model1.h5')\n"
      ],
      "metadata": {
        "colab": {
          "base_uri": "https://localhost:8080/"
        },
        "id": "QEXVg8l05Ic5",
        "outputId": "27933b12-ec08-40c4-be8d-dc6f5b0ca022"
      },
      "execution_count": 39,
      "outputs": [
        {
          "output_type": "stream",
          "name": "stdout",
          "text": [
            "Epoch 1/20\n",
            "500/500 [==============================] - 4s 5ms/step - loss: 1.1815 - accuracy: 0.4925 - val_loss: 0.5910 - val_accuracy: 0.7705\n",
            "Epoch 2/20\n",
            "500/500 [==============================] - 2s 5ms/step - loss: 0.5138 - accuracy: 0.8260 - val_loss: 0.2146 - val_accuracy: 0.9595\n",
            "Epoch 3/20\n",
            "500/500 [==============================] - 3s 7ms/step - loss: 0.2644 - accuracy: 0.9402 - val_loss: 0.1653 - val_accuracy: 0.9750\n",
            "Epoch 4/20\n",
            "500/500 [==============================] - 3s 5ms/step - loss: 0.2079 - accuracy: 0.9609 - val_loss: 0.1671 - val_accuracy: 0.9800\n",
            "Epoch 5/20\n",
            "500/500 [==============================] - 2s 5ms/step - loss: 0.1827 - accuracy: 0.9665 - val_loss: 0.1782 - val_accuracy: 0.9645\n",
            "Epoch 6/20\n",
            "500/500 [==============================] - 2s 5ms/step - loss: 0.1510 - accuracy: 0.9691 - val_loss: 0.1727 - val_accuracy: 0.9825\n",
            "Epoch 7/20\n",
            "500/500 [==============================] - 3s 5ms/step - loss: 0.1313 - accuracy: 0.9745 - val_loss: 0.1484 - val_accuracy: 0.9800\n",
            "Epoch 8/20\n",
            "500/500 [==============================] - 3s 7ms/step - loss: 0.1236 - accuracy: 0.9741 - val_loss: 0.1698 - val_accuracy: 0.9740\n",
            "Epoch 9/20\n",
            "500/500 [==============================] - 3s 5ms/step - loss: 0.1244 - accuracy: 0.9765 - val_loss: 0.1739 - val_accuracy: 0.9810\n",
            "Epoch 10/20\n",
            "500/500 [==============================] - 2s 5ms/step - loss: 0.1094 - accuracy: 0.9764 - val_loss: 0.1647 - val_accuracy: 0.9815\n",
            "Epoch 11/20\n",
            "500/500 [==============================] - 2s 5ms/step - loss: 0.0909 - accuracy: 0.9800 - val_loss: 0.1853 - val_accuracy: 0.9810\n",
            "Epoch 12/20\n",
            "500/500 [==============================] - 3s 5ms/step - loss: 0.1026 - accuracy: 0.9765 - val_loss: 0.1639 - val_accuracy: 0.9815\n",
            "Epoch 13/20\n",
            "500/500 [==============================] - 4s 7ms/step - loss: 0.0904 - accuracy: 0.9785 - val_loss: 0.2042 - val_accuracy: 0.9730\n",
            "Epoch 14/20\n",
            "500/500 [==============================] - 3s 5ms/step - loss: 0.0819 - accuracy: 0.9804 - val_loss: 0.2515 - val_accuracy: 0.9720\n",
            "Epoch 15/20\n",
            "500/500 [==============================] - 2s 5ms/step - loss: 0.0855 - accuracy: 0.9781 - val_loss: 0.2375 - val_accuracy: 0.9810\n",
            "Epoch 16/20\n",
            "500/500 [==============================] - 3s 5ms/step - loss: 0.0651 - accuracy: 0.9822 - val_loss: 0.2035 - val_accuracy: 0.9815\n",
            "Epoch 17/20\n",
            "500/500 [==============================] - 2s 5ms/step - loss: 0.0692 - accuracy: 0.9810 - val_loss: 0.2284 - val_accuracy: 0.9785\n",
            "Epoch 18/20\n",
            "500/500 [==============================] - 4s 7ms/step - loss: 0.0593 - accuracy: 0.9845 - val_loss: 0.2741 - val_accuracy: 0.9760\n",
            "Epoch 19/20\n",
            "500/500 [==============================] - 3s 5ms/step - loss: 0.0649 - accuracy: 0.9851 - val_loss: 0.2102 - val_accuracy: 0.9780\n",
            "Epoch 20/20\n",
            "500/500 [==============================] - 2s 5ms/step - loss: 0.0571 - accuracy: 0.9840 - val_loss: 0.2463 - val_accuracy: 0.9755\n"
          ]
        }
      ]
    },
    {
      "cell_type": "markdown",
      "source": [
        "Accuracy ir val_accuracy gan didelis, loss mazeja, bet val_loss nekonverguoja.\n",
        "Be data augmentation triuku (rotations, scaling, shearing,zooming, filling) :\n",
        "\n",
        " Train set accuracy 98.71% Test set (simple) accuracy 98.98% Test set (adv.) accuracy 83.10%"
      ],
      "metadata": {
        "id": "HYOAoT2MqTgw"
      }
    },
    {
      "cell_type": "code",
      "source": [
        "# Reshape the data to add the fourth dimension\n",
        "X_train = X_train.reshape(X_train.shape[0], 50, 50, 1)\n",
        "X_val = X_test.reshape(X_test.shape[0], 50, 50, 1)\n",
        "\n",
        "# Data augmentation\n",
        "datagen = ImageDataGenerator(\n",
        "    rotation_range=23,\n",
        "    shear_range=0.2,\n",
        "    zoom_range=0.2,\n",
        "    horizontal_flip=True,\n",
        "    vertical_flip=True,\n",
        "    fill_mode='nearest'\n",
        ")\n",
        "\n",
        "datagen.fit(X_train)  # Fit the data generator on the training data\n",
        "\n",
        "# Model architecture\n",
        "model = Sequential()\n",
        "model.add(Conv2D(32, (3, 3), activation='relu', input_shape=(50, 50, 1)))\n",
        "model.add(MaxPooling2D(pool_size=(2, 2)))\n",
        "model.add(Conv2D(64, (3, 3), activation='relu'))\n",
        "model.add(MaxPooling2D(pool_size=(2, 2)))\n",
        "model.add(Conv2D(128, (3, 3), activation='relu'))\n",
        "model.add(MaxPooling2D(pool_size=(2, 2)))\n",
        "model.add(Flatten())\n",
        "model.add(Dense(256, activation='relu'))\n",
        "model.add(Dropout(0.5))\n",
        "model.add(Dense(128, activation='relu'))\n",
        "model.add(Dropout(0.5))\n",
        "model.add(Dense(5, activation='softmax'))\n",
        "\n",
        "model.compile(optimizer='adam', loss='sparse_categorical_crossentropy', metrics=['accuracy'])\n",
        "\n",
        "# Training with data augmentation\n",
        "history = model.fit(datagen.flow(X_train, y_train, batch_size=16), epochs=20, validation_data=(X_val, y_test))\n",
        "\n",
        "model.save('model.h5')"
      ],
      "metadata": {
        "colab": {
          "base_uri": "https://localhost:8080/"
        },
        "id": "p3R728fCw1af",
        "outputId": "6959f010-031f-4b53-c173-996d7b859adb"
      },
      "execution_count": 37,
      "outputs": [
        {
          "output_type": "stream",
          "name": "stdout",
          "text": [
            "Epoch 1/20\n",
            "250/250 [==============================] - 8s 20ms/step - loss: 1.3600 - accuracy: 0.4049 - val_loss: 0.8868 - val_accuracy: 0.5885\n",
            "Epoch 2/20\n",
            "250/250 [==============================] - 4s 17ms/step - loss: 0.8436 - accuracy: 0.6661 - val_loss: 0.7961 - val_accuracy: 0.5980\n",
            "Epoch 3/20\n",
            "250/250 [==============================] - 5s 21ms/step - loss: 0.4439 - accuracy: 0.8677 - val_loss: 0.2688 - val_accuracy: 0.9435\n",
            "Epoch 4/20\n",
            "250/250 [==============================] - 4s 16ms/step - loss: 0.2889 - accuracy: 0.9396 - val_loss: 0.1970 - val_accuracy: 0.9775\n",
            "Epoch 5/20\n",
            "250/250 [==============================] - 6s 23ms/step - loss: 0.2529 - accuracy: 0.9494 - val_loss: 0.1518 - val_accuracy: 0.9825\n",
            "Epoch 6/20\n",
            "250/250 [==============================] - 4s 17ms/step - loss: 0.2241 - accuracy: 0.9597 - val_loss: 0.2401 - val_accuracy: 0.9370\n",
            "Epoch 7/20\n",
            "250/250 [==============================] - 4s 16ms/step - loss: 0.2123 - accuracy: 0.9610 - val_loss: 0.1515 - val_accuracy: 0.9840\n",
            "Epoch 8/20\n",
            "250/250 [==============================] - 6s 24ms/step - loss: 0.1849 - accuracy: 0.9699 - val_loss: 0.1554 - val_accuracy: 0.9835\n",
            "Epoch 9/20\n",
            "250/250 [==============================] - 4s 17ms/step - loss: 0.1911 - accuracy: 0.9646 - val_loss: 0.1567 - val_accuracy: 0.9845\n",
            "Epoch 10/20\n",
            "250/250 [==============================] - 8s 31ms/step - loss: 0.1738 - accuracy: 0.9712 - val_loss: 0.1493 - val_accuracy: 0.9845\n",
            "Epoch 11/20\n",
            "250/250 [==============================] - 4s 17ms/step - loss: 0.1807 - accuracy: 0.9665 - val_loss: 0.1561 - val_accuracy: 0.9820\n",
            "Epoch 12/20\n",
            "250/250 [==============================] - 6s 24ms/step - loss: 0.1763 - accuracy: 0.9694 - val_loss: 0.1429 - val_accuracy: 0.9835\n",
            "Epoch 13/20\n",
            "250/250 [==============================] - 4s 16ms/step - loss: 0.1653 - accuracy: 0.9716 - val_loss: 0.1334 - val_accuracy: 0.9810\n",
            "Epoch 14/20\n",
            "250/250 [==============================] - 4s 17ms/step - loss: 0.1666 - accuracy: 0.9686 - val_loss: 0.1471 - val_accuracy: 0.9845\n",
            "Epoch 15/20\n",
            "250/250 [==============================] - 5s 21ms/step - loss: 0.1629 - accuracy: 0.9729 - val_loss: 0.1416 - val_accuracy: 0.9800\n",
            "Epoch 16/20\n",
            "250/250 [==============================] - 5s 21ms/step - loss: 0.1518 - accuracy: 0.9758 - val_loss: 0.1405 - val_accuracy: 0.9840\n",
            "Epoch 17/20\n",
            "250/250 [==============================] - 4s 16ms/step - loss: 0.1485 - accuracy: 0.9761 - val_loss: 0.1798 - val_accuracy: 0.9680\n",
            "Epoch 18/20\n",
            "250/250 [==============================] - 6s 23ms/step - loss: 0.1758 - accuracy: 0.9669 - val_loss: 0.1299 - val_accuracy: 0.9850\n",
            "Epoch 19/20\n",
            "250/250 [==============================] - 4s 16ms/step - loss: 0.1621 - accuracy: 0.9750 - val_loss: 0.1321 - val_accuracy: 0.9835\n",
            "Epoch 20/20\n",
            "250/250 [==============================] - 6s 23ms/step - loss: 0.1549 - accuracy: 0.9765 - val_loss: 0.1485 - val_accuracy: 0.9830\n"
          ]
        }
      ]
    },
    {
      "cell_type": "markdown",
      "source": [
        "Pastebeta, kad su didesniais batch skaiciais accuracy krenta, todel pasirinkta batch=16. Galbut ir kitokios batch ir epoch reiksmiu poras buvo galima pasirinkti, bet tokiu budu modelio efektyvuma siek tiek lengviau tyrineti."
      ],
      "metadata": {
        "id": "FRMtQ5dFrR_8"
      }
    },
    {
      "cell_type": "markdown",
      "source": [
        "Galima nagrineti hyperparameter optimization/tuning. Naudojausi ImageDataGenerator parametrams nustatyti grid search metoda."
      ],
      "metadata": {
        "id": "PaC7xEmiuQSd"
      }
    },
    {
      "cell_type": "code",
      "source": [
        "files.download('model1.h5')"
      ],
      "metadata": {
        "colab": {
          "base_uri": "https://localhost:8080/",
          "height": 17
        },
        "id": "UYSNWoAIlIrG",
        "outputId": "0f25b802-2630-4f15-acd3-a825daed4763"
      },
      "execution_count": 40,
      "outputs": [
        {
          "output_type": "display_data",
          "data": {
            "text/plain": [
              "<IPython.core.display.Javascript object>"
            ],
            "application/javascript": [
              "\n",
              "    async function download(id, filename, size) {\n",
              "      if (!google.colab.kernel.accessAllowed) {\n",
              "        return;\n",
              "      }\n",
              "      const div = document.createElement('div');\n",
              "      const label = document.createElement('label');\n",
              "      label.textContent = `Downloading \"${filename}\": `;\n",
              "      div.appendChild(label);\n",
              "      const progress = document.createElement('progress');\n",
              "      progress.max = size;\n",
              "      div.appendChild(progress);\n",
              "      document.body.appendChild(div);\n",
              "\n",
              "      const buffers = [];\n",
              "      let downloaded = 0;\n",
              "\n",
              "      const channel = await google.colab.kernel.comms.open(id);\n",
              "      // Send a message to notify the kernel that we're ready.\n",
              "      channel.send({})\n",
              "\n",
              "      for await (const message of channel.messages) {\n",
              "        // Send a message to notify the kernel that we're ready.\n",
              "        channel.send({})\n",
              "        if (message.buffers) {\n",
              "          for (const buffer of message.buffers) {\n",
              "            buffers.push(buffer);\n",
              "            downloaded += buffer.byteLength;\n",
              "            progress.value = downloaded;\n",
              "          }\n",
              "        }\n",
              "      }\n",
              "      const blob = new Blob(buffers, {type: 'application/binary'});\n",
              "      const a = document.createElement('a');\n",
              "      a.href = window.URL.createObjectURL(blob);\n",
              "      a.download = filename;\n",
              "      div.appendChild(a);\n",
              "      a.click();\n",
              "      div.remove();\n",
              "    }\n",
              "  "
            ]
          },
          "metadata": {}
        },
        {
          "output_type": "display_data",
          "data": {
            "text/plain": [
              "<IPython.core.display.Javascript object>"
            ],
            "application/javascript": [
              "download(\"download_68c7f5b4-90e5-4dd7-aa9d-a875a2ab583c\", \"model1.h5\", 7869272)"
            ]
          },
          "metadata": {}
        }
      ]
    },
    {
      "cell_type": "code",
      "source": [
        "from itertools import product\n",
        "from tqdm import tqdm\n",
        "\n",
        "# Define the hyperparameter ranges to search\n",
        "rotation_ranges = [23,26,50]\n",
        "width_shift_ranges = [0.1, 0.2, 0.3]\n",
        "height_shift_ranges = [0.1, 0.3, 0.4]\n",
        "\n",
        "# Initialize a dictionary to store the results\n",
        "results = {}\n",
        "\n",
        "# Perform grid search\n",
        "for rotation_range, width_shift_range, height_shift_range in tqdm(product(rotation_ranges, width_shift_ranges, height_shift_ranges), total=len(rotation_ranges) * len(width_shift_ranges) * len(height_shift_ranges), desc=\"Grid Search\"):\n",
        "    # Data augmentation\n",
        "    datagen = ImageDataGenerator(\n",
        "        rotation_range=rotation_range,\n",
        "        width_shift_range=width_shift_range,\n",
        "        height_shift_range=height_shift_range,\n",
        "        horizontal_flip=True,\n",
        "        vertical_flip=True,\n",
        "        fill_mode='nearest'\n",
        "    )\n",
        "\n",
        "    # Model architecture (use your model definition here)\n",
        "\n",
        "    # Compile the model (use your compile configuration here)\n",
        "\n",
        "    # Training with data augmentation\n",
        "    history = model.fit(datagen.flow(X_train, y_train, batch_size=64), epochs=10, validation_data=(X_val, y_test), verbose=0)\n",
        "\n",
        "    # Evaluate the model on the validation set\n",
        "    _, accuracy = model.evaluate(X_val, y_test, verbose=0)\n",
        "\n",
        "    # Store the results\n",
        "    results[(rotation_range, width_shift_range, height_shift_range)] = accuracy\n",
        "\n",
        "# Print the results\n",
        "for params, accuracy in results.items():\n",
        "    print(f\"Parameters: {params}, Accuracy: {accuracy}\")"
      ],
      "metadata": {
        "colab": {
          "base_uri": "https://localhost:8080/"
        },
        "id": "1gsu-QuW6C1f",
        "outputId": "a5078bec-d727-47a2-fcfd-0dcbf3a3b74d"
      },
      "execution_count": 34,
      "outputs": [
        {
          "output_type": "stream",
          "name": "stderr",
          "text": [
            "Grid Search: 100%|██████████| 27/27 [21:43<00:00, 48.29s/it]"
          ]
        },
        {
          "output_type": "stream",
          "name": "stdout",
          "text": [
            "Parameters: (23, 0.1, 0.1), Accuracy: 0.9850000143051147\n",
            "Parameters: (23, 0.1, 0.3), Accuracy: 0.9850000143051147\n",
            "Parameters: (23, 0.1, 0.4), Accuracy: 0.984499990940094\n",
            "Parameters: (23, 0.2, 0.1), Accuracy: 0.9850000143051147\n",
            "Parameters: (23, 0.2, 0.3), Accuracy: 0.9850000143051147\n",
            "Parameters: (23, 0.2, 0.4), Accuracy: 0.9850000143051147\n",
            "Parameters: (23, 0.3, 0.1), Accuracy: 0.9850000143051147\n",
            "Parameters: (23, 0.3, 0.3), Accuracy: 0.9850000143051147\n",
            "Parameters: (23, 0.3, 0.4), Accuracy: 0.9850000143051147\n",
            "Parameters: (26, 0.1, 0.1), Accuracy: 0.9850000143051147\n",
            "Parameters: (26, 0.1, 0.3), Accuracy: 0.9850000143051147\n",
            "Parameters: (26, 0.1, 0.4), Accuracy: 0.9850000143051147\n",
            "Parameters: (26, 0.2, 0.1), Accuracy: 0.9850000143051147\n",
            "Parameters: (26, 0.2, 0.3), Accuracy: 0.984499990940094\n",
            "Parameters: (26, 0.2, 0.4), Accuracy: 0.9850000143051147\n",
            "Parameters: (26, 0.3, 0.1), Accuracy: 0.9850000143051147\n",
            "Parameters: (26, 0.3, 0.3), Accuracy: 0.9850000143051147\n",
            "Parameters: (26, 0.3, 0.4), Accuracy: 0.9850000143051147\n",
            "Parameters: (50, 0.1, 0.1), Accuracy: 0.9850000143051147\n",
            "Parameters: (50, 0.1, 0.3), Accuracy: 0.9850000143051147\n",
            "Parameters: (50, 0.1, 0.4), Accuracy: 0.9850000143051147\n",
            "Parameters: (50, 0.2, 0.1), Accuracy: 0.9850000143051147\n",
            "Parameters: (50, 0.2, 0.3), Accuracy: 0.9850000143051147\n",
            "Parameters: (50, 0.2, 0.4), Accuracy: 0.984000027179718\n",
            "Parameters: (50, 0.3, 0.1), Accuracy: 0.9850000143051147\n",
            "Parameters: (50, 0.3, 0.3), Accuracy: 0.9850000143051147\n",
            "Parameters: (50, 0.3, 0.4), Accuracy: 0.984499990940094\n"
          ]
        },
        {
          "output_type": "stream",
          "name": "stderr",
          "text": [
            "\n"
          ]
        }
      ]
    },
    {
      "cell_type": "markdown",
      "source": [
        "Deja, nera matoma dideliu pakitimu ( galbut simple.data duomenys nera iskraipyti, pvz figuros neliecia ar neiseina uz krastu ir panasiai)\n",
        "Galima manyti, kad kiti advanced duomenys yra labiau iskraipyti, pastebejau, kad siek tiek itakos tikslumui turi shear_range parametras, kuris leidzia manyti, kad objektai bus istampyti  \n",
        "shear_range =0.3 :Train set accuracy 98.46% Test set (simple) accuracy 99.92% Test set (adv.) accuracy 95.16%\n",
        "\n",
        "shear_range=0.4  Test set (adv.) accuracy 94.53%\n",
        "\n",
        "shear_range=0.25  Test set (adv.) accuracy 94.22%\n",
        "\n"
      ],
      "metadata": {
        "id": "rAga9tJ3w9Mv"
      }
    },
    {
      "cell_type": "code",
      "source": [
        "datagen = ImageDataGenerator(\n",
        "    rotation_range=23,\n",
        "    shear_range=0.3,\n",
        "    zoom_range=0.2,\n",
        "    horizontal_flip=True,\n",
        "    vertical_flip=True,\n",
        "    fill_mode='nearest'\n",
        ")\n",
        "\n",
        "datagen.fit(X_train)  # Fit the data generator on the training data\n",
        "\n",
        "# Model architecture\n",
        "model = Sequential()\n",
        "model.add(Conv2D(32, (3, 3), activation='relu', input_shape=(50, 50, 1)))\n",
        "model.add(MaxPooling2D(pool_size=(2, 2)))\n",
        "model.add(Conv2D(64, (3, 3), activation='relu'))\n",
        "model.add(MaxPooling2D(pool_size=(2, 2)))\n",
        "model.add(Conv2D(128, (3, 3), activation='relu'))\n",
        "model.add(MaxPooling2D(pool_size=(2, 2)))\n",
        "model.add(Flatten())\n",
        "model.add(Dense(256, activation='relu'))\n",
        "model.add(Dropout(0.5))\n",
        "model.add(Dense(128, activation='relu'))\n",
        "model.add(Dropout(0.5))\n",
        "model.add(Dense(5, activation='softmax'))\n",
        "\n",
        "model.compile(optimizer='adam', loss='sparse_categorical_crossentropy', metrics=['accuracy'])\n",
        "\n",
        "# Training with data augmentation\n",
        "history = model.fit(datagen.flow(X_train, y_train, batch_size=32), epochs=10, validation_data=(X_val, y_test))\n",
        "\n",
        "model.save('model_shear.h5')"
      ],
      "metadata": {
        "colab": {
          "base_uri": "https://localhost:8080/"
        },
        "id": "ZT8_aD9XxbyD",
        "outputId": "6c121bbd-2993-4ce9-d7f2-3c68fd1332d8"
      },
      "execution_count": 13,
      "outputs": [
        {
          "output_type": "stream",
          "name": "stdout",
          "text": [
            "Epoch 1/10\n",
            "250/250 [==============================] - 41s 156ms/step - loss: 1.4105 - accuracy: 0.3789 - val_loss: 1.0781 - val_accuracy: 0.5095\n",
            "Epoch 2/10\n",
            "250/250 [==============================] - 44s 175ms/step - loss: 0.9010 - accuracy: 0.6310 - val_loss: 0.4537 - val_accuracy: 0.9030\n",
            "Epoch 3/10\n",
            "250/250 [==============================] - 39s 156ms/step - loss: 0.4973 - accuracy: 0.8371 - val_loss: 0.2111 - val_accuracy: 0.9755\n",
            "Epoch 4/10\n",
            "250/250 [==============================] - 39s 154ms/step - loss: 0.3350 - accuracy: 0.9179 - val_loss: 0.2131 - val_accuracy: 0.9730\n",
            "Epoch 5/10\n",
            "250/250 [==============================] - 40s 161ms/step - loss: 0.2682 - accuracy: 0.9419 - val_loss: 0.1640 - val_accuracy: 0.9825\n",
            "Epoch 6/10\n",
            "250/250 [==============================] - 33s 130ms/step - loss: 0.2309 - accuracy: 0.9546 - val_loss: 0.1675 - val_accuracy: 0.9825\n",
            "Epoch 7/10\n",
            "250/250 [==============================] - 33s 131ms/step - loss: 0.2241 - accuracy: 0.9578 - val_loss: 0.1731 - val_accuracy: 0.9800\n",
            "Epoch 8/10\n",
            "250/250 [==============================] - 33s 131ms/step - loss: 0.1972 - accuracy: 0.9670 - val_loss: 0.2342 - val_accuracy: 0.9565\n",
            "Epoch 9/10\n",
            "250/250 [==============================] - 31s 125ms/step - loss: 0.1971 - accuracy: 0.9654 - val_loss: 0.1547 - val_accuracy: 0.9840\n",
            "Epoch 10/10\n",
            "250/250 [==============================] - 39s 154ms/step - loss: 0.1906 - accuracy: 0.9668 - val_loss: 0.1618 - val_accuracy: 0.9830\n"
          ]
        },
        {
          "output_type": "stream",
          "name": "stderr",
          "text": [
            "/usr/local/lib/python3.10/dist-packages/keras/src/engine/training.py:3079: UserWarning: You are saving your model as an HDF5 file via `model.save()`. This file format is considered legacy. We recommend using instead the native Keras format, e.g. `model.save('my_model.keras')`.\n",
            "  saving_api.save_model(\n"
          ]
        }
      ]
    },
    {
      "cell_type": "markdown",
      "source": [
        "Visgi sunku nuspeti parametru reiksmes ir reikalaujama daug resursu tikrinti siuos visus hyperparametrus.\n",
        "Galima buvo bandyti pritaikyti optimizavimo technikas, kaip random search arba  Baysian optimization  visam neurotinklo visiem parametram, bet tokie skaiciavimai uztruktu labai ilgai (su cpu ivertintas modelis uztruko 7min). Jei tikrintume tik 10 skirtingu epoch ir batch reiksmiu, jau turetume 100 iteraciju apie 700min ( ne grid search metodai visgi maziau iteraciju skaiciuotu)"
      ],
      "metadata": {
        "id": "3Jz5Rfx3-Osu"
      }
    },
    {
      "cell_type": "markdown",
      "source": [
        "Tuo labiau duomenu bazes skiriasi tai ir parametru reiksmes gali neislikti svarbios arba kaip tik iskilti kaip labai dominuojancios. Taigi, galbut verta butu optimizuot parametrus tik turint adv. duomenu baze."
      ],
      "metadata": {
        "id": "htsBNModCKDg"
      }
    },
    {
      "cell_type": "code",
      "source": [
        "files.download('model1.h5')"
      ],
      "metadata": {
        "colab": {
          "base_uri": "https://localhost:8080/",
          "height": 17
        },
        "id": "tHHpW34B2sWx",
        "outputId": "164b4e1c-34e0-48db-a767-9c9046792638"
      },
      "execution_count": 14,
      "outputs": [
        {
          "output_type": "display_data",
          "data": {
            "text/plain": [
              "<IPython.core.display.Javascript object>"
            ],
            "application/javascript": [
              "\n",
              "    async function download(id, filename, size) {\n",
              "      if (!google.colab.kernel.accessAllowed) {\n",
              "        return;\n",
              "      }\n",
              "      const div = document.createElement('div');\n",
              "      const label = document.createElement('label');\n",
              "      label.textContent = `Downloading \"${filename}\": `;\n",
              "      div.appendChild(label);\n",
              "      const progress = document.createElement('progress');\n",
              "      progress.max = size;\n",
              "      div.appendChild(progress);\n",
              "      document.body.appendChild(div);\n",
              "\n",
              "      const buffers = [];\n",
              "      let downloaded = 0;\n",
              "\n",
              "      const channel = await google.colab.kernel.comms.open(id);\n",
              "      // Send a message to notify the kernel that we're ready.\n",
              "      channel.send({})\n",
              "\n",
              "      for await (const message of channel.messages) {\n",
              "        // Send a message to notify the kernel that we're ready.\n",
              "        channel.send({})\n",
              "        if (message.buffers) {\n",
              "          for (const buffer of message.buffers) {\n",
              "            buffers.push(buffer);\n",
              "            downloaded += buffer.byteLength;\n",
              "            progress.value = downloaded;\n",
              "          }\n",
              "        }\n",
              "      }\n",
              "      const blob = new Blob(buffers, {type: 'application/binary'});\n",
              "      const a = document.createElement('a');\n",
              "      a.href = window.URL.createObjectURL(blob);\n",
              "      a.download = filename;\n",
              "      div.appendChild(a);\n",
              "      a.click();\n",
              "      div.remove();\n",
              "    }\n",
              "  "
            ]
          },
          "metadata": {}
        },
        {
          "output_type": "display_data",
          "data": {
            "text/plain": [
              "<IPython.core.display.Javascript object>"
            ],
            "application/javascript": [
              "download(\"download_ee93c6f4-e599-4c7d-b1f2-95b672202a69\", \"model1.h5\", 7868792)"
            ]
          },
          "metadata": {}
        }
      ]
    }
  ]
}