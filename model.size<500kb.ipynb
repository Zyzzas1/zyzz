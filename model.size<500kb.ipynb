{
  "cells": [
    {
      "cell_type": "markdown",
      "metadata": {
        "id": "view-in-github",
        "colab_type": "text"
      },
      "source": [
        "<a href=\"https://colab.research.google.com/github/Zyzzas1/zyzz/blob/main/model.size%3C500kb.ipynb\" target=\"_parent\"><img src=\"https://colab.research.google.com/assets/colab-badge.svg\" alt=\"Open In Colab\"/></a>"
      ]
    },
    {
      "cell_type": "code",
      "execution_count": null,
      "metadata": {
        "colab": {
          "base_uri": "https://localhost:8080/",
          "height": 130
        },
        "id": "PDepa8FIBgY-",
        "outputId": "520c541e-5365-40a5-92e4-e8e168d6aeaf"
      },
      "outputs": [
        {
          "data": {
            "image/png": "[encoded data removed]",
            "text/plain": [
              "<Figure size 640x480 with 6 Axes>"
            ]
          },
          "metadata": {},
          "output_type": "display_data"
        }
      ],
      "source": [
        "import matplotlib.pyplot as plt\n",
        "import numpy as np\n",
        "\n",
        "# Replace X and y with your actual data\n",
        "# For example, if your data is in a pandas DataFrame, you can use df['X'] and df['y']\n",
        "\n",
        "\n",
        "\n",
        "\n",
        "for i in range(6):\n",
        "    plt.subplot(1, 6, i + 1)\n",
        "    plt.imshow(X[i], cmap='gray')  # Assuming grayscale images\n",
        "    plt.title(f'Label: {y[i]}')\n",
        "    plt.axis('off')\n",
        "\n",
        "plt.show()\n"
      ]
    },
    {
      "cell_type": "code",
      "execution_count": 1,
      "metadata": {
        "id": "INLHCIQ0__92"
      },
      "outputs": [],
      "source": [
        "%matplotlib inline\n",
        "\n",
        "import os\n",
        "import time\n",
        "import numpy as np\n",
        "import pandas as pd\n",
        "import matplotlib.pyplot as plt\n",
        "import tensorflow.keras as keras\n",
        "from tensorflow.keras.layers import Dense, Input, Flatten, Conv2D, BatchNormalization, \\\n",
        "                                    Activation, Dropout, MaxPooling2D\n",
        "from tensorflow.keras.models import Sequential\n",
        "from keras.optimizers import SGD\n",
        "from sklearn.model_selection import train_test_split\n",
        "\n",
        "from tensorflow.keras.callbacks import TensorBoard\n",
        "from keras.models import Sequential\n",
        "from keras.layers import Conv2D, MaxPooling2D, AveragePooling2D, Flatten, Dense\n"
      ]
    },
    {
      "cell_type": "code",
      "execution_count": 2,
      "metadata": {
        "colab": {
          "base_uri": "https://localhost:8080/"
        },
        "id": "KAec0aLiAkyG",
        "outputId": "ba009c5a-b3c7-4070-95ed-732e1fc9609c"
      },
      "outputs": [
        {
          "output_type": "stream",
          "name": "stdout",
          "text": [
            "File downloaded successfully.\n"
          ]
        }
      ],
      "source": [
        "import requests\n",
        "\n",
        "# URL of the raw file on GitHub\n",
        "url = \"https://github.com/trokas/ai_primer/raw/master/flatland_train.npz\"\n",
        "\n",
        "# Send an HTTP GET request to the URL\n",
        "response = requests.get(url)\n",
        "\n",
        "# Check if the request was successful (status code 200)\n",
        "if response.status_code == 200:\n",
        "    # Save the content to a local file\n",
        "    with open(\"flatland_train.npz\", \"wb\") as file:\n",
        "        file.write(response.content)\n",
        "    print(\"File downloaded successfully.\")\n",
        "else:\n",
        "    print(f\"Failed to download the file. Status code: {response.status_code}\")"
      ]
    },
    {
      "cell_type": "code",
      "execution_count": 3,
      "metadata": {
        "id": "Vvs9nxAfAphv"
      },
      "outputs": [],
      "source": [
        "data = np.load('flatland_train.npz')\n",
        "X = data['X']\n",
        "y = data['y']\n",
        "\n",
        "y[y != 0] -= 2    # Correct labels so that triangle is mapped to class 1\n",
        "X = X / 255.\n",
        "dataDim = np.prod(y[0].shape)"
      ]
    },
    {
      "cell_type": "code",
      "execution_count": 4,
      "metadata": {
        "colab": {
          "base_uri": "https://localhost:8080/"
        },
        "id": "R2xfG9ZNDIow",
        "outputId": "7674906f-08fe-4884-d17c-b40ab75dfdcf"
      },
      "outputs": [
        {
          "output_type": "execute_result",
          "data": {
            "text/plain": [
              "()"
            ]
          },
          "metadata": {},
          "execution_count": 4
        }
      ],
      "source": [
        "dataDim.shape"
      ]
    },
    {
      "cell_type": "code",
      "execution_count": 5,
      "metadata": {
        "colab": {
          "base_uri": "https://localhost:8080/"
        },
        "id": "Pft8GW1qB_H6",
        "outputId": "fd42a12c-03a6-45d3-af06-3d3124a73226"
      },
      "outputs": [
        {
          "output_type": "stream",
          "name": "stdout",
          "text": [
            "Label 0.0: 1381 occurrences\n",
            "Label 1.0: 2853 occurrences\n",
            "Label 2.0: 1868 occurrences\n",
            "Label 3.0: 2137 occurrences\n",
            "Label 4.0: 1761 occurrences\n"
          ]
        }
      ],
      "source": [
        "unique_labels, label_counts = np.unique(y, return_counts=True)\n",
        "\n",
        "# Print the results\n",
        "for label, count in zip(unique_labels, label_counts):\n",
        "    print(f'Label {label}: {count} occurrences')"
      ]
    },
    {
      "cell_type": "code",
      "execution_count": 6,
      "metadata": {
        "colab": {
          "base_uri": "https://localhost:8080/"
        },
        "id": "6LEDPIp9CUay",
        "outputId": "74f605da-23b1-45cf-e8f2-a3c3d1398303"
      },
      "outputs": [
        {
          "output_type": "stream",
          "name": "stdout",
          "text": [
            "X Train shape: (8000, 50, 50)\n",
            "X Test shape: (2000, 50, 50)\n",
            "Y Train shape: (8000,)\n",
            "Y Test shape: (2000,)\n"
          ]
        }
      ],
      "source": [
        "(X_train, X_test, y_train, y_test) = train_test_split(X, y, test_size=0.2, random_state=42)\n",
        "\n",
        "print(\"X Train shape:\", X_train.shape)\n",
        "print(\"X Test shape:\", X_test.shape)\n",
        "print(\"Y Train shape:\", y_train.shape)\n",
        "print(\"Y Test shape:\", y_test.shape)"
      ]
    },
    {
      "cell_type": "code",
      "execution_count": 21,
      "metadata": {
        "colab": {
          "base_uri": "https://localhost:8080/"
        },
        "id": "IBkaad7PF0OB",
        "outputId": "70c968c3-3a47-4cb5-d2ab-ad4b03423b46"
      },
      "outputs": [
        {
          "output_type": "stream",
          "name": "stdout",
          "text": [
            "Model: \"sequential_6\"\n",
            "_________________________________________________________________\n",
            " Layer (type)                Output Shape              Param #   \n",
            "=================================================================\n",
            " conv2d_18 (Conv2D)          (None, 48, 48, 32)        320       \n",
            "                                                                 \n",
            " max_pooling2d_18 (MaxPooli  (None, 24, 24, 32)        0         \n",
            " ng2D)                                                           \n",
            "                                                                 \n",
            " conv2d_19 (Conv2D)          (None, 22, 22, 64)        18496     \n",
            "                                                                 \n",
            " max_pooling2d_19 (MaxPooli  (None, 7, 7, 64)          0         \n",
            " ng2D)                                                           \n",
            "                                                                 \n",
            " conv2d_20 (Conv2D)          (None, 5, 5, 128)         73856     \n",
            "                                                                 \n",
            " max_pooling2d_20 (MaxPooli  (None, 1, 1, 128)         0         \n",
            " ng2D)                                                           \n",
            "                                                                 \n",
            " flatten_6 (Flatten)         (None, 128)               0         \n",
            "                                                                 \n",
            " dense_18 (Dense)            (None, 80)                10320     \n",
            "                                                                 \n",
            " dense_19 (Dense)            (None, 40)                3240      \n",
            "                                                                 \n",
            " dropout_6 (Dropout)         (None, 40)                0         \n",
            "                                                                 \n",
            " dense_20 (Dense)            (None, 5)                 205       \n",
            "                                                                 \n",
            "=================================================================\n",
            "Total params: 106437 (415.77 KB)\n",
            "Trainable params: 106437 (415.77 KB)\n",
            "Non-trainable params: 0 (0.00 Byte)\n",
            "_________________________________________________________________\n"
          ]
        }
      ],
      "source": [
        "from keras.models import Sequential\n",
        "from keras.layers import Conv2D, MaxPooling2D, Flatten, Dense, Dropout\n",
        "\n",
        "from keras.preprocessing.image import ImageDataGenerator\n",
        "X_train = X_train.reshape(X_train.shape[0], 50, 50, 1)\n",
        "X_val = X_test.reshape(X_test.shape[0], 50, 50, 1)\n",
        "\n",
        "# Data augmentation\n",
        "datagen.fit(X_train)\n",
        "# Data augmentation\n",
        "datagen = ImageDataGenerator(\n",
        "    rotation_range=23,\n",
        "\n",
        "    shear_range=0.2,\n",
        "    zoom_range=0.3,\n",
        "    horizontal_flip=True,\n",
        "    vertical_flip=True,\n",
        "    fill_mode='nearest'\n",
        ")\n",
        "\n",
        "model = Sequential()\n",
        "\n",
        "# Convolutional layers\n",
        "model.add(Conv2D(32, (3, 3), activation='relu', input_shape=(50, 50, 1)))\n",
        "model.add(MaxPooling2D(pool_size=(2, 2)))\n",
        "model.add(Conv2D(64, (3, 3), activation='relu'))\n",
        "model.add(MaxPooling2D(pool_size=(3, 3)))\n",
        "model.add(Conv2D(128, (3, 3), activation='relu'))\n",
        "model.add(MaxPooling2D(pool_size=(3, 3)))\n",
        "\n",
        "# Flatten layer to transition from convolutional to dense layers\n",
        "model.add(Flatten())\n",
        "\n",
        "# Dense layers\n",
        "model.add(Dense(80, activation='relu'))\n",
        "model.add(Dense(40, activation='relu'))\n",
        "model.add(Dropout(0.2))\n",
        "\n",
        "\n",
        "# Output layer\n",
        "model.add(Dense(5, activation='softmax'))\n",
        "\n",
        "model.compile(optimizer='adam', loss='sparse_categorical_crossentropy', metrics=['accuracy'])\n",
        "\n",
        "model.summary()\n",
        "\n"
      ]
    },
    {
      "cell_type": "code",
      "source": [
        "from google.colab import files\n",
        "\n",
        "files.download('model.h5')"
      ],
      "metadata": {
        "colab": {
          "base_uri": "https://localhost:8080/",
          "height": 17
        },
        "id": "5R1WtQWTZX5I",
        "outputId": "67f33c61-3452-4ccb-cc52-793557c3bc96"
      },
      "execution_count": 23,
      "outputs": [
        {
          "output_type": "display_data",
          "data": {
            "text/plain": [
              "<IPython.core.display.Javascript object>"
            ],
            "application/javascript": [
              "\n",
              "    async function download(id, filename, size) {\n",
              "      if (!google.colab.kernel.accessAllowed) {\n",
              "        return;\n",
              "      }\n",
              "      const div = document.createElement('div');\n",
              "      const label = document.createElement('label');\n",
              "      label.textContent = `Downloading \"${filename}\": `;\n",
              "      div.appendChild(label);\n",
              "      const progress = document.createElement('progress');\n",
              "      progress.max = size;\n",
              "      div.appendChild(progress);\n",
              "      document.body.appendChild(div);\n",
              "\n",
              "      const buffers = [];\n",
              "      let downloaded = 0;\n",
              "\n",
              "      const channel = await google.colab.kernel.comms.open(id);\n",
              "      // Send a message to notify the kernel that we're ready.\n",
              "      channel.send({})\n",
              "\n",
              "      for await (const message of channel.messages) {\n",
              "        // Send a message to notify the kernel that we're ready.\n",
              "        channel.send({})\n",
              "        if (message.buffers) {\n",
              "          for (const buffer of message.buffers) {\n",
              "            buffers.push(buffer);\n",
              "            downloaded += buffer.byteLength;\n",
              "            progress.value = downloaded;\n",
              "          }\n",
              "        }\n",
              "      }\n",
              "      const blob = new Blob(buffers, {type: 'application/binary'});\n",
              "      const a = document.createElement('a');\n",
              "      a.href = window.URL.createObjectURL(blob);\n",
              "      a.download = filename;\n",
              "      div.appendChild(a);\n",
              "      a.click();\n",
              "      div.remove();\n",
              "    }\n",
              "  "
            ]
          },
          "metadata": {}
        },
        {
          "output_type": "display_data",
          "data": {
            "text/plain": [
              "<IPython.core.display.Javascript object>"
            ],
            "application/javascript": [
              "download(\"download_2613817f-cbbc-45ac-b1cf-cba605b4a172\", \"model.h5\", 1337040)"
            ]
          },
          "metadata": {}
        }
      ]
    },
    {
      "cell_type": "code",
      "execution_count": 17,
      "metadata": {
        "colab": {
          "base_uri": "https://localhost:8080/",
          "height": 448
        },
        "id": "mN8w9IUR1ZWk",
        "outputId": "20e20443-83ce-45e0-f1d2-35e15ce203c5"
      },
      "outputs": [
        {
          "output_type": "execute_result",
          "data": {
            "text/plain": [
              "<Axes: >"
            ]
          },
          "metadata": {},
          "execution_count": 17
        },
        {
          "output_type": "display_data",
          "data": {
            "text/plain": [
              "<Figure size 640x480 with 1 Axes>"
            ],
            "image/png": "[encoded data removed]"
          },
          "metadata": {}
        }
      ],
      "source": [
        "pd.DataFrame(loss.history).plot()"
      ]
    },
    {
      "cell_type": "code",
      "execution_count": 22,
      "metadata": {
        "colab": {
          "base_uri": "https://localhost:8080/"
        },
        "id": "RLk-M1uJ29zA",
        "outputId": "664c1412-9a3e-498b-ab07-1a62c17debc1"
      },
      "outputs": [
        {
          "output_type": "stream",
          "name": "stdout",
          "text": [
            "Epoch 1/20\n",
            "250/250 [==============================] - 6s 18ms/step - loss: 1.3115 - accuracy: 0.4387 - val_loss: 0.8795 - val_accuracy: 0.6275\n",
            "Epoch 2/20\n",
            "250/250 [==============================] - 6s 23ms/step - loss: 0.8383 - accuracy: 0.6644 - val_loss: 0.5346 - val_accuracy: 0.8310\n",
            "Epoch 3/20\n",
            "250/250 [==============================] - 4s 17ms/step - loss: 0.6054 - accuracy: 0.7847 - val_loss: 0.3491 - val_accuracy: 0.9235\n",
            "Epoch 4/20\n",
            "250/250 [==============================] - 6s 23ms/step - loss: 0.5135 - accuracy: 0.8328 - val_loss: 0.2973 - val_accuracy: 0.9330\n",
            "Epoch 5/20\n",
            "250/250 [==============================] - 4s 18ms/step - loss: 0.4484 - accuracy: 0.8677 - val_loss: 0.2460 - val_accuracy: 0.9560\n",
            "Epoch 6/20\n",
            "250/250 [==============================] - 4s 17ms/step - loss: 0.3946 - accuracy: 0.8867 - val_loss: 0.3927 - val_accuracy: 0.8720\n",
            "Epoch 7/20\n",
            "250/250 [==============================] - 6s 23ms/step - loss: 0.3888 - accuracy: 0.8842 - val_loss: 0.2518 - val_accuracy: 0.9450\n",
            "Epoch 8/20\n",
            "250/250 [==============================] - 4s 18ms/step - loss: 0.3297 - accuracy: 0.9072 - val_loss: 0.1962 - val_accuracy: 0.9730\n",
            "Epoch 9/20\n",
            "250/250 [==============================] - 4s 17ms/step - loss: 0.3129 - accuracy: 0.9166 - val_loss: 0.2203 - val_accuracy: 0.9595\n",
            "Epoch 10/20\n",
            "250/250 [==============================] - 6s 24ms/step - loss: 0.3101 - accuracy: 0.9151 - val_loss: 0.1854 - val_accuracy: 0.9725\n",
            "Epoch 11/20\n",
            "250/250 [==============================] - 4s 17ms/step - loss: 0.2863 - accuracy: 0.9220 - val_loss: 0.2222 - val_accuracy: 0.9515\n",
            "Epoch 12/20\n",
            "250/250 [==============================] - 4s 17ms/step - loss: 0.2870 - accuracy: 0.9255 - val_loss: 0.1837 - val_accuracy: 0.9685\n",
            "Epoch 13/20\n",
            "250/250 [==============================] - 6s 25ms/step - loss: 0.2835 - accuracy: 0.9268 - val_loss: 0.1960 - val_accuracy: 0.9630\n",
            "Epoch 14/20\n",
            "250/250 [==============================] - 4s 17ms/step - loss: 0.2645 - accuracy: 0.9295 - val_loss: 0.1953 - val_accuracy: 0.9620\n",
            "Epoch 15/20\n",
            "250/250 [==============================] - 6s 22ms/step - loss: 0.2641 - accuracy: 0.9320 - val_loss: 0.1749 - val_accuracy: 0.9720\n",
            "Epoch 16/20\n",
            "250/250 [==============================] - 4s 17ms/step - loss: 0.2501 - accuracy: 0.9352 - val_loss: 0.1691 - val_accuracy: 0.9735\n",
            "Epoch 17/20\n",
            "250/250 [==============================] - 5s 19ms/step - loss: 0.2577 - accuracy: 0.9310 - val_loss: 0.1801 - val_accuracy: 0.9700\n",
            "Epoch 18/20\n",
            "250/250 [==============================] - 5s 20ms/step - loss: 0.2579 - accuracy: 0.9317 - val_loss: 0.1628 - val_accuracy: 0.9725\n",
            "Epoch 19/20\n",
            "250/250 [==============================] - 4s 17ms/step - loss: 0.2362 - accuracy: 0.9389 - val_loss: 0.1544 - val_accuracy: 0.9770\n",
            "Epoch 20/20\n",
            "250/250 [==============================] - 5s 20ms/step - loss: 0.2370 - accuracy: 0.9426 - val_loss: 0.1614 - val_accuracy: 0.9750\n"
          ]
        },
        {
          "output_type": "stream",
          "name": "stderr",
          "text": [
            "/usr/local/lib/python3.10/dist-packages/keras/src/engine/training.py:3079: UserWarning: You are saving your model as an HDF5 file via `model.save()`. This file format is considered legacy. We recommend using instead the native Keras format, e.g. `model.save('my_model.keras')`.\n",
            "  saving_api.save_model(\n"
          ]
        }
      ],
      "source": [
        "\n",
        "\n",
        "loss = model.fit(datagen.flow(X_train, y_train, batch_size=32), validation_data=(X_test, y_test), batch_size=64, epochs=20)\n",
        "model.save('model.h5')"
      ]
    }
  ],
  "metadata": {
    "colab": {
      "provenance": [],
      "gpuType": "T4",
      "authorship_tag": "ABX9TyNsCszckcBb/Y0lmhR1nR3Y",
      "include_colab_link": true
    },
    "kernelspec": {
      "display_name": "Python 3",
      "name": "python3"
    },
    "language_info": {
      "name": "python"
    },
    "accelerator": "GPU"
  },
  "nbformat": 4,
  "nbformat_minor": 0
}